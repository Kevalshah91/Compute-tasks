{
 "cells": [
  {
   "cell_type": "code",
   "execution_count": 3,
   "id": "ea8a9461",
   "metadata": {},
   "outputs": [],
   "source": [
    "def pyramid(n):\n",
    "    for i in range(n - 1):\n",
    "        for j in range(n - i - 1):\n",
    "            print(\" \", end=\"\")\n",
    "        for j in range(2 * i + 1):\n",
    "            if j == 0 or j == 2 * i:\n",
    "                print(\"*\", end=\"\")\n",
    "            else:\n",
    "                print(\" \", end=\"\")\n",
    "        print()\n",
    "    for i in range(n):\n",
    "        print(\"*\", end=\" \")\n"
   ]
  },
  {
   "cell_type": "code",
   "execution_count": 5,
   "id": "f6e2b6e1",
   "metadata": {},
   "outputs": [
    {
     "name": "stdout",
     "output_type": "stream",
     "text": [
      "        *\n",
      "       * *\n",
      "      *   *\n",
      "     *     *\n",
      "    *       *\n",
      "   *         *\n",
      "  *           *\n",
      " *             *\n",
      "* * * * * * * * * "
     ]
    }
   ],
   "source": [
    "pyramid(9)"
   ]
  },
  {
   "cell_type": "code",
   "execution_count": 8,
   "id": "d3f58e66",
   "metadata": {},
   "outputs": [
    {
     "name": "stdout",
     "output_type": "stream",
     "text": [
      "\n",
      "\n",
      "A \n",
      "\n",
      "2 3 \n",
      "\n",
      "D E F \n",
      "\n",
      "7 8 9 10 \n",
      "\n",
      "K L M N O \n",
      "\n"
     ]
    }
   ],
   "source": [
    "count = 1\n",
    "for i in range(1,7):\n",
    "    for j in range(1,i):\n",
    "        if(i%2!=0):\n",
    "            print(count,end=' ')\n",
    "        else:\n",
    "            print(chr(64+count),end=' ')\n",
    "        count+=1\n",
    "    print('\\n')"
   ]
  },
  {
   "cell_type": "code",
   "execution_count": 9,
   "id": "bab6c7f2",
   "metadata": {},
   "outputs": [],
   "source": [
    "def check_same(lst):\n",
    "    if(lst[0]==lst[len(lst)-1]):\n",
    "        print(\"Same\")\n",
    "    else:\n",
    "        print(\"Not same\")\n",
    "numbers_x = [10, 20, 30, 40, 10]\n",
    "numbers_y = [75, 65, 35, 75, 30]"
   ]
  },
  {
   "cell_type": "code",
   "execution_count": 10,
   "id": "949440c3",
   "metadata": {},
   "outputs": [
    {
     "name": "stdout",
     "output_type": "stream",
     "text": [
      "Same\n"
     ]
    }
   ],
   "source": [
    "check_same(numbers_x)"
   ]
  },
  {
   "cell_type": "code",
   "execution_count": 11,
   "id": "6a24f3d3",
   "metadata": {},
   "outputs": [
    {
     "name": "stdout",
     "output_type": "stream",
     "text": [
      "Not same\n"
     ]
    }
   ],
   "source": [
    "check_same(numbers_y)"
   ]
  },
  {
   "cell_type": "markdown",
   "id": "ece56f76",
   "metadata": {},
   "source": [
    "# Now Hackerrank "
   ]
  },
  {
   "cell_type": "code",
   "execution_count": 4,
   "id": "9791cc90",
   "metadata": {},
   "outputs": [],
   "source": [
    "# Q5\n",
    "def mutate_string(string, position, character):\n",
    "    x = print(string[:position]+character+string[position+1:])\n",
    "    return x"
   ]
  },
  {
   "cell_type": "code",
   "execution_count": 7,
   "id": "8a32d337",
   "metadata": {},
   "outputs": [
    {
     "name": "stdout",
     "output_type": "stream",
     "text": [
      "keval\n"
     ]
    }
   ],
   "source": [
    "mutate_string('kewal',2,'v')"
   ]
  },
  {
   "cell_type": "code",
   "execution_count": 5,
   "id": "fe7bf4a8",
   "metadata": {},
   "outputs": [
    {
     "name": "stdout",
     "output_type": "stream",
     "text": [
      "ring\n"
     ]
    }
   ],
   "source": [
    "mutate_string('king',0,'r')"
   ]
  },
  {
   "cell_type": "code",
   "execution_count": 6,
   "id": "c6afe661",
   "metadata": {},
   "outputs": [
    {
     "name": "stdout",
     "output_type": "stream",
     "text": [
      "abrackdabra\n"
     ]
    }
   ],
   "source": [
    "mutate_string('abracadabra',5,'k')"
   ]
  },
  {
   "cell_type": "code",
   "execution_count": 13,
   "id": "edb02476",
   "metadata": {},
   "outputs": [
    {
     "data": {
      "text/plain": [
       "[0, 1, 4, 9, 16, 25, 36, 49, 64, 81]"
      ]
     },
     "execution_count": 13,
     "metadata": {},
     "output_type": "execute_result"
    }
   ],
   "source": [
    "l = list(range(10))\n",
    "l = list(map(lambda x:x*x, l))\n",
    "l"
   ]
  },
  {
   "cell_type": "code",
   "execution_count": 12,
   "id": "ee8c0628",
   "metadata": {},
   "outputs": [
    {
     "data": {
      "text/plain": [
       "[]"
      ]
     },
     "execution_count": 12,
     "metadata": {},
     "output_type": "execute_result"
    }
   ],
   "source": [
    "l = list(filter(lambda x: x > 10 and x < 80, l))\n",
    "l"
   ]
  },
  {
   "cell_type": "code",
   "execution_count": 28,
   "id": "10a99995",
   "metadata": {},
   "outputs": [],
   "source": [
    "# Q4\n",
    "def fun(s):\n",
    "    check = 0\n",
    "    x=[s.split('@')[0]]\n",
    "    x.append(s.split('@')[1].split('.')[0])\n",
    "    x.append(s.split('@')[1].split('.')[1])\n",
    "    if(x[0].isalnum() or ('-' in x[0]) or ('_' in x[0])):\n",
    "        check = 0\n",
    "    if(x[2].isalpha() and (len(x[2])<=3 and len(x[2])>=1)):\n",
    "        #print(len(x[2]))\n",
    "        check += 1 \n",
    "    if check==1:\n",
    "        return True\n",
    "    else:\n",
    "        return False"
   ]
  },
  {
   "cell_type": "code",
   "execution_count": 29,
   "id": "0c453359",
   "metadata": {},
   "outputs": [
    {
     "data": {
      "text/plain": [
       "False"
      ]
     },
     "execution_count": 29,
     "metadata": {},
     "output_type": "execute_result"
    }
   ],
   "source": [
    "fun('keval@gm.comz')"
   ]
  },
  {
   "cell_type": "code",
   "execution_count": 33,
   "id": "4c323af0",
   "metadata": {},
   "outputs": [
    {
     "data": {
      "text/plain": [
       "True"
      ]
     },
     "execution_count": 33,
     "metadata": {},
     "output_type": "execute_result"
    }
   ],
   "source": [
    "fun('tan5_ay@gmail.com')"
   ]
  },
  {
   "cell_type": "code",
   "execution_count": 38,
   "id": "6e40d6d9",
   "metadata": {},
   "outputs": [
    {
     "name": "stdout",
     "output_type": "stream",
     "text": [
      "['brian-23@hackerrank.com', 'britts_54@hackerrank.com', 'lara@hackerrank.com']\n"
     ]
    }
   ],
   "source": [
    "emails = ['brian-23@hackerrank.com', 'britts_54@hackerrank.com', 'lara@hackerrank.com']\n",
    "y = list(filter((lambda ids:fun(ids)),emails))\n",
    "print(y)"
   ]
  },
  {
   "cell_type": "code",
   "execution_count": 57,
   "id": "212faecc",
   "metadata": {},
   "outputs": [
    {
     "name": "stdout",
     "output_type": "stream",
     "text": [
      "2\n",
      "Enter key 1: keval\n",
      "15\n",
      "48\n",
      "50\n",
      "Enter key 2: rajat\n",
      "14\n",
      "49\n",
      "49\n",
      "keval\n",
      "37.666666666666664\n"
     ]
    }
   ],
   "source": [
    "# Q3\n",
    "my_dict = {}\n",
    "# number of inputs\n",
    "num_inputs = int(input())\n",
    "for i in range(num_inputs):\n",
    "    key = input(\"Enter key {}: \".format(i+1))\n",
    "    values = []\n",
    "    for j in range(3):\n",
    "        value = float(input())\n",
    "        values.append(value)\n",
    "    my_dict[key] = values\n",
    "#print(\"Dictionary:\", my_dict)    \n",
    "# Now to run query\n",
    "query = input()\n",
    "if query in my_dict:\n",
    "    values = my_dict[query]\n",
    "    avg = sum(values) / len(values)\n",
    "    print(avg)"
   ]
  },
  {
   "cell_type": "code",
   "execution_count": 75,
   "id": "67bfce1c",
   "metadata": {},
   "outputs": [
    {
     "name": "stdout",
     "output_type": "stream",
     "text": [
      "f: 7\n",
      "b: 5\n",
      "g: 5\n",
      "Logo : \n",
      "fbg"
     ]
    }
   ],
   "source": [
    "# Q2\n",
    "input_string = 'bqbfbaobfkugeugfOCpwefcpWFGOEUGFAEefgpfgegfb'\n",
    "\n",
    "char_frequency = {}\n",
    "for char in input_string:\n",
    "    if char in char_frequency:\n",
    "        char_frequency[char] += 1\n",
    "    else:\n",
    "        char_frequency[char] = 1\n",
    "\n",
    "sorted_char_frequency = dict(sorted(char_frequency.items(), key=lambda item: (-item[1], item[0])))\n",
    "top_3 = list(sorted_char_frequency.items())[0:3]\n",
    "for char, count in top_3:\n",
    "    print(f\"{char}: {count}\")\n",
    "    \n",
    "print(\"Logo : \")\n",
    "for char, count in top_3:\n",
    "    print(char,end='')\n"
   ]
  },
  {
   "cell_type": "code",
   "execution_count": null,
   "id": "c07db6da",
   "metadata": {},
   "outputs": [],
   "source": []
  }
 ],
 "metadata": {
  "kernelspec": {
   "display_name": "Python 3 (ipykernel)",
   "language": "python",
   "name": "python3"
  },
  "language_info": {
   "codemirror_mode": {
    "name": "ipython",
    "version": 3
   },
   "file_extension": ".py",
   "mimetype": "text/x-python",
   "name": "python",
   "nbconvert_exporter": "python",
   "pygments_lexer": "ipython3",
   "version": "3.10.9"
  }
 },
 "nbformat": 4,
 "nbformat_minor": 5
}
