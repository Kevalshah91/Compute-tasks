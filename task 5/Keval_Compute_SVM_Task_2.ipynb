{
  "nbformat": 4,
  "nbformat_minor": 0,
  "metadata": {
    "colab": {
      "provenance": [],
      "toc_visible": true
    },
    "kernelspec": {
      "name": "python3",
      "display_name": "Python 3"
    },
    "language_info": {
      "name": "python"
    }
  },
  "cells": [
    {
      "cell_type": "markdown",
      "source": [
        "##Q1 Import and explore the data\n",
        "Dataset Link: https://drive.google.com/file/d/1tPHOMKD_ef-j8MuynCn2fSpbrL11-J1l/view?usp=sharing\n"
      ],
      "metadata": {
        "id": "aHQLsCXT_yf9"
      }
    },
    {
      "cell_type": "code",
      "source": [
        "!ls"
      ],
      "metadata": {
        "colab": {
          "base_uri": "https://localhost:8080/"
        },
        "id": "ZQlKdLaUg2vW",
        "outputId": "608585c5-4d88-427c-eadf-fb46045b0f88"
      },
      "execution_count": null,
      "outputs": [
        {
          "output_type": "stream",
          "name": "stdout",
          "text": [
            "pulsar.txt  sample_data\n"
          ]
        }
      ]
    },
    {
      "cell_type": "code",
      "source": [
        "import pandas as pd"
      ],
      "metadata": {
        "id": "w0hnmKYti26f"
      },
      "execution_count": null,
      "outputs": []
    },
    {
      "cell_type": "code",
      "source": [
        "df = pd.read_csv(\"pulsar.txt\")\n",
        "df.head(5)"
      ],
      "metadata": {
        "colab": {
          "base_uri": "https://localhost:8080/",
          "height": 224
        },
        "id": "_oV_3fPWi29L",
        "outputId": "4ca04ca8-c934-4626-9124-f5566ee78e80"
      },
      "execution_count": null,
      "outputs": [
        {
          "output_type": "execute_result",
          "data": {
            "text/plain": [
              "    Mean of the integrated profile  \\\n",
              "0                       121.156250   \n",
              "1                        76.968750   \n",
              "2                       130.585938   \n",
              "3                       156.398438   \n",
              "4                        84.804688   \n",
              "\n",
              "    Standard deviation of the integrated profile  \\\n",
              "0                                      48.372971   \n",
              "1                                      36.175557   \n",
              "2                                      53.229534   \n",
              "3                                      48.865942   \n",
              "4                                      36.117659   \n",
              "\n",
              "    Excess kurtosis of the integrated profile  \\\n",
              "0                                    0.375485   \n",
              "1                                    0.712898   \n",
              "2                                    0.133408   \n",
              "3                                   -0.215989   \n",
              "4                                    0.825013   \n",
              "\n",
              "    Skewness of the integrated profile   Mean of the DM-SNR curve  \\\n",
              "0                            -0.013165                   3.168896   \n",
              "1                             3.388719                   2.399666   \n",
              "2                            -0.297242                   2.743311   \n",
              "3                            -0.171294                  17.471572   \n",
              "4                             3.274125                   2.790134   \n",
              "\n",
              "    Standard deviation of the DM-SNR curve  \\\n",
              "0                                18.399367   \n",
              "1                                17.570997   \n",
              "2                                22.362553   \n",
              "3                                      NaN   \n",
              "4                                20.618009   \n",
              "\n",
              "    Excess kurtosis of the DM-SNR curve   Skewness of the DM-SNR curve  \\\n",
              "0                              7.449874                      65.159298   \n",
              "1                              9.414652                     102.722975   \n",
              "2                              8.508364                      74.031324   \n",
              "3                              2.958066                       7.197842   \n",
              "4                              8.405008                      76.291128   \n",
              "\n",
              "   target_class  \n",
              "0           0.0  \n",
              "1           0.0  \n",
              "2           0.0  \n",
              "3           0.0  \n",
              "4           0.0  "
            ],
            "text/html": [
              "\n",
              "  <div id=\"df-cbda7065-c903-4f23-ab1e-2bd422ed4dd7\" class=\"colab-df-container\">\n",
              "    <div>\n",
              "<style scoped>\n",
              "    .dataframe tbody tr th:only-of-type {\n",
              "        vertical-align: middle;\n",
              "    }\n",
              "\n",
              "    .dataframe tbody tr th {\n",
              "        vertical-align: top;\n",
              "    }\n",
              "\n",
              "    .dataframe thead th {\n",
              "        text-align: right;\n",
              "    }\n",
              "</style>\n",
              "<table border=\"1\" class=\"dataframe\">\n",
              "  <thead>\n",
              "    <tr style=\"text-align: right;\">\n",
              "      <th></th>\n",
              "      <th>Mean of the integrated profile</th>\n",
              "      <th>Standard deviation of the integrated profile</th>\n",
              "      <th>Excess kurtosis of the integrated profile</th>\n",
              "      <th>Skewness of the integrated profile</th>\n",
              "      <th>Mean of the DM-SNR curve</th>\n",
              "      <th>Standard deviation of the DM-SNR curve</th>\n",
              "      <th>Excess kurtosis of the DM-SNR curve</th>\n",
              "      <th>Skewness of the DM-SNR curve</th>\n",
              "      <th>target_class</th>\n",
              "    </tr>\n",
              "  </thead>\n",
              "  <tbody>\n",
              "    <tr>\n",
              "      <th>0</th>\n",
              "      <td>121.156250</td>\n",
              "      <td>48.372971</td>\n",
              "      <td>0.375485</td>\n",
              "      <td>-0.013165</td>\n",
              "      <td>3.168896</td>\n",
              "      <td>18.399367</td>\n",
              "      <td>7.449874</td>\n",
              "      <td>65.159298</td>\n",
              "      <td>0.0</td>\n",
              "    </tr>\n",
              "    <tr>\n",
              "      <th>1</th>\n",
              "      <td>76.968750</td>\n",
              "      <td>36.175557</td>\n",
              "      <td>0.712898</td>\n",
              "      <td>3.388719</td>\n",
              "      <td>2.399666</td>\n",
              "      <td>17.570997</td>\n",
              "      <td>9.414652</td>\n",
              "      <td>102.722975</td>\n",
              "      <td>0.0</td>\n",
              "    </tr>\n",
              "    <tr>\n",
              "      <th>2</th>\n",
              "      <td>130.585938</td>\n",
              "      <td>53.229534</td>\n",
              "      <td>0.133408</td>\n",
              "      <td>-0.297242</td>\n",
              "      <td>2.743311</td>\n",
              "      <td>22.362553</td>\n",
              "      <td>8.508364</td>\n",
              "      <td>74.031324</td>\n",
              "      <td>0.0</td>\n",
              "    </tr>\n",
              "    <tr>\n",
              "      <th>3</th>\n",
              "      <td>156.398438</td>\n",
              "      <td>48.865942</td>\n",
              "      <td>-0.215989</td>\n",
              "      <td>-0.171294</td>\n",
              "      <td>17.471572</td>\n",
              "      <td>NaN</td>\n",
              "      <td>2.958066</td>\n",
              "      <td>7.197842</td>\n",
              "      <td>0.0</td>\n",
              "    </tr>\n",
              "    <tr>\n",
              "      <th>4</th>\n",
              "      <td>84.804688</td>\n",
              "      <td>36.117659</td>\n",
              "      <td>0.825013</td>\n",
              "      <td>3.274125</td>\n",
              "      <td>2.790134</td>\n",
              "      <td>20.618009</td>\n",
              "      <td>8.405008</td>\n",
              "      <td>76.291128</td>\n",
              "      <td>0.0</td>\n",
              "    </tr>\n",
              "  </tbody>\n",
              "</table>\n",
              "</div>\n",
              "    <div class=\"colab-df-buttons\">\n",
              "\n",
              "  <div class=\"colab-df-container\">\n",
              "    <button class=\"colab-df-convert\" onclick=\"convertToInteractive('df-cbda7065-c903-4f23-ab1e-2bd422ed4dd7')\"\n",
              "            title=\"Convert this dataframe to an interactive table.\"\n",
              "            style=\"display:none;\">\n",
              "\n",
              "  <svg xmlns=\"http://www.w3.org/2000/svg\" height=\"24px\" viewBox=\"0 -960 960 960\">\n",
              "    <path d=\"M120-120v-720h720v720H120Zm60-500h600v-160H180v160Zm220 220h160v-160H400v160Zm0 220h160v-160H400v160ZM180-400h160v-160H180v160Zm440 0h160v-160H620v160ZM180-180h160v-160H180v160Zm440 0h160v-160H620v160Z\"/>\n",
              "  </svg>\n",
              "    </button>\n",
              "\n",
              "  <style>\n",
              "    .colab-df-container {\n",
              "      display:flex;\n",
              "      gap: 12px;\n",
              "    }\n",
              "\n",
              "    .colab-df-convert {\n",
              "      background-color: #E8F0FE;\n",
              "      border: none;\n",
              "      border-radius: 50%;\n",
              "      cursor: pointer;\n",
              "      display: none;\n",
              "      fill: #1967D2;\n",
              "      height: 32px;\n",
              "      padding: 0 0 0 0;\n",
              "      width: 32px;\n",
              "    }\n",
              "\n",
              "    .colab-df-convert:hover {\n",
              "      background-color: #E2EBFA;\n",
              "      box-shadow: 0px 1px 2px rgba(60, 64, 67, 0.3), 0px 1px 3px 1px rgba(60, 64, 67, 0.15);\n",
              "      fill: #174EA6;\n",
              "    }\n",
              "\n",
              "    .colab-df-buttons div {\n",
              "      margin-bottom: 4px;\n",
              "    }\n",
              "\n",
              "    [theme=dark] .colab-df-convert {\n",
              "      background-color: #3B4455;\n",
              "      fill: #D2E3FC;\n",
              "    }\n",
              "\n",
              "    [theme=dark] .colab-df-convert:hover {\n",
              "      background-color: #434B5C;\n",
              "      box-shadow: 0px 1px 3px 1px rgba(0, 0, 0, 0.15);\n",
              "      filter: drop-shadow(0px 1px 2px rgba(0, 0, 0, 0.3));\n",
              "      fill: #FFFFFF;\n",
              "    }\n",
              "  </style>\n",
              "\n",
              "    <script>\n",
              "      const buttonEl =\n",
              "        document.querySelector('#df-cbda7065-c903-4f23-ab1e-2bd422ed4dd7 button.colab-df-convert');\n",
              "      buttonEl.style.display =\n",
              "        google.colab.kernel.accessAllowed ? 'block' : 'none';\n",
              "\n",
              "      async function convertToInteractive(key) {\n",
              "        const element = document.querySelector('#df-cbda7065-c903-4f23-ab1e-2bd422ed4dd7');\n",
              "        const dataTable =\n",
              "          await google.colab.kernel.invokeFunction('convertToInteractive',\n",
              "                                                    [key], {});\n",
              "        if (!dataTable) return;\n",
              "\n",
              "        const docLinkHtml = 'Like what you see? Visit the ' +\n",
              "          '<a target=\"_blank\" href=https://colab.research.google.com/notebooks/data_table.ipynb>data table notebook</a>'\n",
              "          + ' to learn more about interactive tables.';\n",
              "        element.innerHTML = '';\n",
              "        dataTable['output_type'] = 'display_data';\n",
              "        await google.colab.output.renderOutput(dataTable, element);\n",
              "        const docLink = document.createElement('div');\n",
              "        docLink.innerHTML = docLinkHtml;\n",
              "        element.appendChild(docLink);\n",
              "      }\n",
              "    </script>\n",
              "  </div>\n",
              "\n",
              "\n",
              "<div id=\"df-61b3bac9-0c89-46ac-b86d-2fc1a66196e9\">\n",
              "  <button class=\"colab-df-quickchart\" onclick=\"quickchart('df-61b3bac9-0c89-46ac-b86d-2fc1a66196e9')\"\n",
              "            title=\"Suggest charts\"\n",
              "            style=\"display:none;\">\n",
              "\n",
              "<svg xmlns=\"http://www.w3.org/2000/svg\" height=\"24px\"viewBox=\"0 0 24 24\"\n",
              "     width=\"24px\">\n",
              "    <g>\n",
              "        <path d=\"M19 3H5c-1.1 0-2 .9-2 2v14c0 1.1.9 2 2 2h14c1.1 0 2-.9 2-2V5c0-1.1-.9-2-2-2zM9 17H7v-7h2v7zm4 0h-2V7h2v10zm4 0h-2v-4h2v4z\"/>\n",
              "    </g>\n",
              "</svg>\n",
              "  </button>\n",
              "\n",
              "<style>\n",
              "  .colab-df-quickchart {\n",
              "      --bg-color: #E8F0FE;\n",
              "      --fill-color: #1967D2;\n",
              "      --hover-bg-color: #E2EBFA;\n",
              "      --hover-fill-color: #174EA6;\n",
              "      --disabled-fill-color: #AAA;\n",
              "      --disabled-bg-color: #DDD;\n",
              "  }\n",
              "\n",
              "  [theme=dark] .colab-df-quickchart {\n",
              "      --bg-color: #3B4455;\n",
              "      --fill-color: #D2E3FC;\n",
              "      --hover-bg-color: #434B5C;\n",
              "      --hover-fill-color: #FFFFFF;\n",
              "      --disabled-bg-color: #3B4455;\n",
              "      --disabled-fill-color: #666;\n",
              "  }\n",
              "\n",
              "  .colab-df-quickchart {\n",
              "    background-color: var(--bg-color);\n",
              "    border: none;\n",
              "    border-radius: 50%;\n",
              "    cursor: pointer;\n",
              "    display: none;\n",
              "    fill: var(--fill-color);\n",
              "    height: 32px;\n",
              "    padding: 0;\n",
              "    width: 32px;\n",
              "  }\n",
              "\n",
              "  .colab-df-quickchart:hover {\n",
              "    background-color: var(--hover-bg-color);\n",
              "    box-shadow: 0 1px 2px rgba(60, 64, 67, 0.3), 0 1px 3px 1px rgba(60, 64, 67, 0.15);\n",
              "    fill: var(--button-hover-fill-color);\n",
              "  }\n",
              "\n",
              "  .colab-df-quickchart-complete:disabled,\n",
              "  .colab-df-quickchart-complete:disabled:hover {\n",
              "    background-color: var(--disabled-bg-color);\n",
              "    fill: var(--disabled-fill-color);\n",
              "    box-shadow: none;\n",
              "  }\n",
              "\n",
              "  .colab-df-spinner {\n",
              "    border: 2px solid var(--fill-color);\n",
              "    border-color: transparent;\n",
              "    border-bottom-color: var(--fill-color);\n",
              "    animation:\n",
              "      spin 1s steps(1) infinite;\n",
              "  }\n",
              "\n",
              "  @keyframes spin {\n",
              "    0% {\n",
              "      border-color: transparent;\n",
              "      border-bottom-color: var(--fill-color);\n",
              "      border-left-color: var(--fill-color);\n",
              "    }\n",
              "    20% {\n",
              "      border-color: transparent;\n",
              "      border-left-color: var(--fill-color);\n",
              "      border-top-color: var(--fill-color);\n",
              "    }\n",
              "    30% {\n",
              "      border-color: transparent;\n",
              "      border-left-color: var(--fill-color);\n",
              "      border-top-color: var(--fill-color);\n",
              "      border-right-color: var(--fill-color);\n",
              "    }\n",
              "    40% {\n",
              "      border-color: transparent;\n",
              "      border-right-color: var(--fill-color);\n",
              "      border-top-color: var(--fill-color);\n",
              "    }\n",
              "    60% {\n",
              "      border-color: transparent;\n",
              "      border-right-color: var(--fill-color);\n",
              "    }\n",
              "    80% {\n",
              "      border-color: transparent;\n",
              "      border-right-color: var(--fill-color);\n",
              "      border-bottom-color: var(--fill-color);\n",
              "    }\n",
              "    90% {\n",
              "      border-color: transparent;\n",
              "      border-bottom-color: var(--fill-color);\n",
              "    }\n",
              "  }\n",
              "</style>\n",
              "\n",
              "  <script>\n",
              "    async function quickchart(key) {\n",
              "      const quickchartButtonEl =\n",
              "        document.querySelector('#' + key + ' button');\n",
              "      quickchartButtonEl.disabled = true;  // To prevent multiple clicks.\n",
              "      quickchartButtonEl.classList.add('colab-df-spinner');\n",
              "      try {\n",
              "        const charts = await google.colab.kernel.invokeFunction(\n",
              "            'suggestCharts', [key], {});\n",
              "      } catch (error) {\n",
              "        console.error('Error during call to suggestCharts:', error);\n",
              "      }\n",
              "      quickchartButtonEl.classList.remove('colab-df-spinner');\n",
              "      quickchartButtonEl.classList.add('colab-df-quickchart-complete');\n",
              "    }\n",
              "    (() => {\n",
              "      let quickchartButtonEl =\n",
              "        document.querySelector('#df-61b3bac9-0c89-46ac-b86d-2fc1a66196e9 button');\n",
              "      quickchartButtonEl.style.display =\n",
              "        google.colab.kernel.accessAllowed ? 'block' : 'none';\n",
              "    })();\n",
              "  </script>\n",
              "</div>\n",
              "\n",
              "    </div>\n",
              "  </div>\n"
            ]
          },
          "metadata": {},
          "execution_count": 4
        }
      ]
    },
    {
      "cell_type": "code",
      "source": [
        "df.isnull().sum()"
      ],
      "metadata": {
        "colab": {
          "base_uri": "https://localhost:8080/"
        },
        "id": "8rPA36GYi2_9",
        "outputId": "64708ea1-badd-4bb4-d5bc-dd6574efcc8c"
      },
      "execution_count": null,
      "outputs": [
        {
          "output_type": "execute_result",
          "data": {
            "text/plain": [
              " Mean of the integrated profile                     0\n",
              " Standard deviation of the integrated profile       0\n",
              " Excess kurtosis of the integrated profile       1735\n",
              " Skewness of the integrated profile                 0\n",
              " Mean of the DM-SNR curve                           0\n",
              " Standard deviation of the DM-SNR curve          1178\n",
              " Excess kurtosis of the DM-SNR curve                0\n",
              " Skewness of the DM-SNR curve                     625\n",
              "target_class                                        0\n",
              "dtype: int64"
            ]
          },
          "metadata": {},
          "execution_count": 5
        }
      ]
    },
    {
      "cell_type": "code",
      "source": [
        "df[\"target_class\"].value_counts()"
      ],
      "metadata": {
        "colab": {
          "base_uri": "https://localhost:8080/"
        },
        "id": "4cIg0OcYzUZl",
        "outputId": "4c43c702-1030-452b-d18e-8868f4edcf7b"
      },
      "execution_count": null,
      "outputs": [
        {
          "output_type": "execute_result",
          "data": {
            "text/plain": [
              "0.0    11375\n",
              "1.0     1153\n",
              "Name: target_class, dtype: int64"
            ]
          },
          "metadata": {},
          "execution_count": 6
        }
      ]
    },
    {
      "cell_type": "markdown",
      "source": [
        "##Q2 Carry out data pre-processing"
      ],
      "metadata": {
        "id": "naklkC17ALnZ"
      }
    },
    {
      "cell_type": "code",
      "source": [
        "df.dropna(axis=0,inplace=True)"
      ],
      "metadata": {
        "id": "G2jOxbI-C-ql"
      },
      "execution_count": null,
      "outputs": []
    },
    {
      "cell_type": "code",
      "source": [
        "df.isnull().sum()"
      ],
      "metadata": {
        "colab": {
          "base_uri": "https://localhost:8080/"
        },
        "id": "SfmAWZ_lC-ZV",
        "outputId": "b63fb936-c58e-4ba5-8cb1-2a8a9146472f"
      },
      "execution_count": null,
      "outputs": [
        {
          "output_type": "execute_result",
          "data": {
            "text/plain": [
              " Mean of the integrated profile                  0\n",
              " Standard deviation of the integrated profile    0\n",
              " Excess kurtosis of the integrated profile       0\n",
              " Skewness of the integrated profile              0\n",
              " Mean of the DM-SNR curve                        0\n",
              " Standard deviation of the DM-SNR curve          0\n",
              " Excess kurtosis of the DM-SNR curve             0\n",
              " Skewness of the DM-SNR curve                    0\n",
              "target_class                                     0\n",
              "dtype: int64"
            ]
          },
          "metadata": {},
          "execution_count": 8
        }
      ]
    },
    {
      "cell_type": "markdown",
      "source": [
        "##Q4 Split the data in traina and test set"
      ],
      "metadata": {
        "id": "ris4X7S3Bg3E"
      }
    },
    {
      "cell_type": "code",
      "source": [
        "from sklearn.model_selection import train_test_split\n",
        "X = df.drop('target_class', axis=1)\n",
        "y = df['target_class']\n",
        "X_train, X_test, y_train, y_test = train_test_split(X, y, test_size=0.2, random_state=91)"
      ],
      "metadata": {
        "id": "6tRph5J18UcR"
      },
      "execution_count": null,
      "outputs": []
    },
    {
      "cell_type": "markdown",
      "source": [
        "##Q3 Scale the data using Standard Scaler"
      ],
      "metadata": {
        "id": "qfCEvxCTAWMV"
      }
    },
    {
      "cell_type": "code",
      "source": [
        "from sklearn.preprocessing import StandardScaler"
      ],
      "metadata": {
        "id": "9klSgt5pC_5d"
      },
      "execution_count": null,
      "outputs": []
    },
    {
      "cell_type": "code",
      "source": [
        "sc = StandardScaler()\n",
        "X_train_scaled = sc.fit_transform(X_train)\n",
        "X_test_scaled = sc.transform(X_test)"
      ],
      "metadata": {
        "id": "yyCJSPHMC_oU"
      },
      "execution_count": null,
      "outputs": []
    },
    {
      "cell_type": "markdown",
      "source": [
        "####Q3a According to you, why is scaling important in SVM? What are the different methods for scaling the data available in sklearn.preprocessing?"
      ],
      "metadata": {
        "id": "9TiEh5yjAvmi"
      }
    },
    {
      "cell_type": "markdown",
      "source": [
        "\n",
        "\n",
        "1.   SVM often uses kernel functions (e.g. RBF,sigmoid,linear,poly,etc) that compute distances between data points.\n",
        "2.   If features are not scaled, the contribution of each feature to the distance calculation may not be equitable.\n",
        "\n",
        "\n",
        "Different Scalers :\n",
        "1.   StandardScaler\n",
        "2.   MinMaxScaler\n",
        "3.   RobustScaler\n",
        "\n"
      ],
      "metadata": {
        "id": "g2i3J-WQGAxG"
      }
    },
    {
      "cell_type": "markdown",
      "source": [
        "##Q5 Implement SVM"
      ],
      "metadata": {
        "id": "fmrpw-xPAT5i"
      }
    },
    {
      "cell_type": "markdown",
      "source": [
        "Different types of kernels in SVM:\n",
        "https://www.kaggle.com/discussions/questions-and-answers/326336\n"
      ],
      "metadata": {
        "id": "hnSv4K9cFBnk"
      }
    },
    {
      "cell_type": "markdown",
      "source": [
        "###Q5a Linear SVM\n",
        "\n",
        "Apply Linear SVM for costs (C) = [0.1, 1, 10, 100, 1000], predict for the test set and check f1 score for each of the costs. State the best cost"
      ],
      "metadata": {
        "id": "QXZCpBvDAZIQ"
      }
    },
    {
      "cell_type": "code",
      "source": [
        "from sklearn.svm import SVC\n",
        "from sklearn.metrics import f1_score\n",
        "\n",
        "costs = [0.1, 1, 10, 100, 1000]\n",
        "f1_scores = {}\n",
        "\n",
        "for cost in costs:\n",
        "    svm_model = SVC(kernel='linear', C=cost)\n",
        "    svm_model.fit(X_train_scaled, y_train)\n",
        "    y_pred = svm_model.predict(X_test_scaled)\n",
        "    f1 = f1_score(y_test, y_pred)\n",
        "    f1_scores[cost] = f1\n",
        "\n",
        "for cost, f1 in f1_scores.items():\n",
        "    print(f\"F1-Score for C={cost}: {f1}\")"
      ],
      "metadata": {
        "id": "XQ_H9e8Z8WRY",
        "colab": {
          "base_uri": "https://localhost:8080/"
        },
        "outputId": "da048b58-4cff-4c99-b9b8-880ef8f8c2b4"
      },
      "execution_count": null,
      "outputs": [
        {
          "output_type": "stream",
          "name": "stdout",
          "text": [
            "F1-Score for C=0.1: 0.8628762541806019\n",
            "F1-Score for C=1: 0.8618421052631579\n",
            "F1-Score for C=10: 0.8655737704918033\n",
            "F1-Score for C=100: 0.8655737704918033\n",
            "F1-Score for C=1000: 0.8655737704918033\n"
          ]
        }
      ]
    },
    {
      "cell_type": "code",
      "source": [
        "best_cost = max(f1_scores, key=f1_scores.get)\n",
        "print(\"Best Cost:\", best_cost)"
      ],
      "metadata": {
        "colab": {
          "base_uri": "https://localhost:8080/"
        },
        "id": "bGoAUgnQTKvm",
        "outputId": "2aa3e0f8-0c51-4c58-ab97-a6be3a99ed92"
      },
      "execution_count": null,
      "outputs": [
        {
          "output_type": "stream",
          "name": "stdout",
          "text": [
            "\n",
            "Best Cost: 10\n"
          ]
        }
      ]
    },
    {
      "cell_type": "markdown",
      "source": [
        "###Q5b Polynomial Kernel"
      ],
      "metadata": {
        "id": "ZfPGIeT6EO1e"
      }
    },
    {
      "cell_type": "markdown",
      "source": [
        "Apply Linear SVM for degrees = [1,2,3,4,5], predict for the test set and check f1 score for each of the degrees. State the best degree."
      ],
      "metadata": {
        "id": "3vwpxFdTEOx3"
      }
    },
    {
      "cell_type": "code",
      "source": [
        "degrees = [1, 2, 3, 4, 5]\n",
        "\n",
        "f1_scores_poly = {}\n",
        "for degree in degrees:\n",
        "    svm_model_poly = SVC(kernel='poly', degree=degree)\n",
        "\n",
        "    svm_model_poly.fit(X_train_scaled, y_train)\n",
        "    y_pred_poly = svm_model_poly.predict(X_test_scaled)\n",
        "\n",
        "    f1_poly = f1_score(y_test, y_pred_poly, average='micro')\n",
        "    f1_scores_poly[degree] = f1_poly\n",
        "\n",
        "for degree, f1_poly in f1_scores_poly.items():\n",
        "    print(f\"F1 Score for Degree={degree}: {f1_poly}\")"
      ],
      "metadata": {
        "id": "doPCbujkDpaP",
        "colab": {
          "base_uri": "https://localhost:8080/"
        },
        "outputId": "a7dbba48-06aa-4e54-f87f-c3a0a792efa2"
      },
      "execution_count": null,
      "outputs": [
        {
          "output_type": "stream",
          "name": "stdout",
          "text": [
            "F1 Score for Degree=1: 0.9773584905660377\n",
            "F1 Score for Degree=2: 0.9741239892183289\n",
            "F1 Score for Degree=3: 0.9741239892183289\n",
            "F1 Score for Degree=4: 0.9741239892183289\n",
            "F1 Score for Degree=5: 0.9725067385444744\n"
          ]
        }
      ]
    },
    {
      "cell_type": "code",
      "source": [
        "best_degree_poly = max(f1_scores_poly, key=f1_scores_poly.get)\n",
        "print(\"Best Degree:\", best_degree_poly)"
      ],
      "metadata": {
        "colab": {
          "base_uri": "https://localhost:8080/"
        },
        "id": "7_M-oOaSPPgi",
        "outputId": "128ab28c-d457-416e-d79b-28b7a79262aa"
      },
      "execution_count": null,
      "outputs": [
        {
          "output_type": "stream",
          "name": "stdout",
          "text": [
            "Best Degree: 1\n"
          ]
        }
      ]
    },
    {
      "cell_type": "markdown",
      "source": [
        "###Q5c Sigmoid Kernel"
      ],
      "metadata": {
        "id": "3RnH4YwDDt8_"
      }
    },
    {
      "cell_type": "markdown",
      "source": [
        "Apply Linear SVM for costs (C) = [0.1, 1, 10, 100, 1000], predict for the test set and check f1 score for each of the costs. State the best cost"
      ],
      "metadata": {
        "id": "0xQpdX-6D5By"
      }
    },
    {
      "cell_type": "code",
      "source": [
        "c = [0.1, 1, 10, 100, 1000]\n",
        "\n",
        "f1_scores_linear = {}\n",
        "\n",
        "for cost in c:\n",
        "    svm_model_linear = SVC(kernel='linear', C=cost)\n",
        "    svm_model_linear.fit(X_train_scaled, y_train)\n",
        "    y_pred_linear = svm_model_linear.predict(X_test_scaled)\n",
        "\n",
        "    f1_linear = f1_score(y_test, y_pred_linear, average='micro')\n",
        "    f1_scores_linear[cost] = f1_linear\n",
        "\n",
        "for cost, f1_linear in f1_scores_linear.items():\n",
        "    print(f\"F1 Score for C={cost}: {f1_linear}\")"
      ],
      "metadata": {
        "id": "mtJYyYDRDRkA",
        "colab": {
          "base_uri": "https://localhost:8080/"
        },
        "outputId": "2ca3ad80-c003-4e02-8093-15bba6d0239b"
      },
      "execution_count": null,
      "outputs": [
        {
          "output_type": "stream",
          "name": "stdout",
          "text": [
            "F1 Score for C=0.1: 0.9778975741239893\n",
            "F1 Score for C=1: 0.9773584905660377\n",
            "F1 Score for C=10: 0.9778975741239893\n",
            "F1 Score for C=100: 0.9778975741239893\n",
            "F1 Score for C=1000: 0.9778975741239893\n"
          ]
        }
      ]
    },
    {
      "cell_type": "code",
      "source": [
        "best_cost_linear = max(f1_scores_linear, key=f1_scores_linear.get)\n",
        "print(\"Best Cost:\", best_cost_linear)"
      ],
      "metadata": {
        "colab": {
          "base_uri": "https://localhost:8080/"
        },
        "id": "YWDfR9HBPZsb",
        "outputId": "66b762e1-d198-40f7-bbc5-b19cd603a83d"
      },
      "execution_count": null,
      "outputs": [
        {
          "output_type": "stream",
          "name": "stdout",
          "text": [
            "Best Cost: 0.1\n"
          ]
        }
      ]
    },
    {
      "cell_type": "markdown",
      "source": [
        "###Q5d RBF Kernel"
      ],
      "metadata": {
        "id": "xtz9KvY6AcE9"
      }
    },
    {
      "cell_type": "markdown",
      "source": [
        "Apply Linear SVM for costs (C) = [0.1, 1, 10, 100, 1000], predict for the test set and check f1 score for each of the costs. State the best cost"
      ],
      "metadata": {
        "id": "S85NYKGkDj0D"
      }
    },
    {
      "cell_type": "code",
      "source": [
        "c = [0.1,1,10,100,1000]\n",
        "\n",
        "f1_scores_rbf = {}\n",
        "\n",
        "for cost in c:\n",
        "  svm_model_rbf = SVC(kernel='rbf',C=cost)\n",
        "  svm_model_rbf.fit(X_train_scaled,y_train)\n",
        "  y_pred_rbf = svm_model_rbf.predict(X_test_scaled)\n",
        "\n",
        "  f1_rbf = f1_score(y_test,y_pred_rbf)\n",
        "  f1_scores_rbf[cost] = f1_rbf\n",
        "\n",
        "for cost,f1_rbf in f1_scores_rbf.items():\n",
        "    print(f\"F1 Score for C = {cost} : {f1_rbf}\")"
      ],
      "metadata": {
        "id": "oeA1eR798Z7f",
        "colab": {
          "base_uri": "https://localhost:8080/"
        },
        "outputId": "9c5ed9c0-a711-4717-b873-eeb80e2bb79a"
      },
      "execution_count": null,
      "outputs": [
        {
          "output_type": "stream",
          "name": "stdout",
          "text": [
            "F1 Score for C = 0.1 : 0.8484848484848484\n",
            "F1 Score for C = 1 : 0.8552631578947367\n",
            "F1 Score for C = 10 : 0.8701298701298701\n",
            "F1 Score for C = 100 : 0.8543689320388351\n",
            "F1 Score for C = 1000 : 0.8535031847133757\n"
          ]
        }
      ]
    },
    {
      "cell_type": "code",
      "source": [
        "best_cost_rbf = max(f1_scores_rbf, key=f1_scores_rbf.get)\n",
        "print(\"Best Cost:\", best_cost_rbf)"
      ],
      "metadata": {
        "colab": {
          "base_uri": "https://localhost:8080/"
        },
        "id": "RrOCTmpnRE-3",
        "outputId": "aaacd6a6-46c1-4f6d-eec3-5dc6e12abf59"
      },
      "execution_count": null,
      "outputs": [
        {
          "output_type": "stream",
          "name": "stdout",
          "text": [
            "Best Cost: 10\n"
          ]
        }
      ]
    },
    {
      "cell_type": "code",
      "source": [],
      "metadata": {
        "id": "xcT3VBzXR1g_"
      },
      "execution_count": null,
      "outputs": []
    }
  ]
}